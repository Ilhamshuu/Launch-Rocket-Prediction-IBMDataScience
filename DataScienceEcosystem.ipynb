{
 "cells": [
  {
   "cell_type": "markdown",
   "id": "598e14d6",
   "metadata": {},
   "source": [
    "# Data Science Tools and Ecosystem"
   ]
  },
  {
   "cell_type": "markdown",
   "id": "47fbc332",
   "metadata": {},
   "source": [
    "In this notebook, Data Science Tools and Ecosystem are summarized."
   ]
  },
  {
   "cell_type": "markdown",
   "id": "e506352f",
   "metadata": {},
   "source": [
    "Some of the popular languages that Data Scientists use are:\n",
    "\n",
    "1. **Python:** Widely used for its simplicity, vast libraries (like Pandas, NumPy, Scikit-learn), and readability.\n",
    "2. **R:** Known for its statistical analysis capabilities, rich packages, and visualization libraries like ggplot2.\n",
    "3. **SQL:** Essential for database querying and handling structured data, often used in data manipulation and retrieval tasks.\n",
    "4. **Julia:** Gaining traction for its high-performance computing, particularly in scientific computing and machine learning.\n",
    "\n",
    "These languages play a crucial role in the toolkit of a data scientist, each offering unique advantages and applications in data analysis, machine learning, and statistical modeling."
   ]
  },
  {
   "cell_type": "markdown",
   "id": "71653116",
   "metadata": {},
   "source": [
    "### Some of the commonly used libraries used by Data Scientists include:\n",
    "\n",
    "1. **Pandas:** Known for its powerful data manipulation and analysis tools, offering data structures and functions ideal for handling structured data.\n",
    "2. **NumPy:** Essential for numerical computing, providing support for arrays, matrices, and mathematical functions, forming the foundation for many data science operations.\n",
    "3. **Scikit-learn:** A versatile machine learning library that offers various algorithms for classification, regression, clustering, and more, along with tools for model training and evaluation.\n",
    "4. **TensorFlow:** Widely used for building and training deep learning models, providing flexible tools for neural network architectures and computations.\n",
    "5. **Matplotlib:** A popular visualization library for creating static, interactive, and publication-quality visualizations, supporting a wide range of plots and charts.\n",
    "\n",
    "These libraries serve as fundamental tools for data scientists, facilitating data manipulation, analysis, machine learning, and visualization tasks."
   ]
  },
  {
   "cell_type": "markdown",
   "id": "0c7e4c16",
   "metadata": {},
   "source": [
    "### Data Science Tools\n",
    "\n",
    "| Data Science Tools |\n",
    "|:------------------:|\n",
    "| Jupyter Notebook   |\n",
    "| RStudio            |\n",
    "| VS Code            |"
   ]
  },
  {
   "cell_type": "markdown",
   "id": "37f1e85e",
   "metadata": {},
   "source": [
    "### Below are a few examples of evaluating arithmetic expressions in Python.\n",
    "\n",
    "You can use Python for various arithmetic operations. Here are some basic examples:"
   ]
  },
  {
   "cell_type": "code",
   "execution_count": 4,
   "id": "e6438023",
   "metadata": {},
   "outputs": [
    {
     "name": "stdout",
     "output_type": "stream",
     "text": [
      "Addition: 15\n",
      "Subtraction: 12\n",
      "Multiplication: 28\n",
      "Division: 5.0\n",
      "Exponentiation: 16\n",
      "Modulo: 2\n"
     ]
    }
   ],
   "source": [
    "# Addition\n",
    "result_add = 10 + 5\n",
    "print(\"Addition:\", result_add)\n",
    "\n",
    "# Subtraction\n",
    "result_sub = 20 - 8\n",
    "print(\"Subtraction:\", result_sub)\n",
    "\n",
    "# Multiplication\n",
    "result_mul = 7 * 4\n",
    "print(\"Multiplication:\", result_mul)\n",
    "\n",
    "# Division\n",
    "result_div = 15 / 3\n",
    "print(\"Division:\", result_div)\n",
    "\n",
    "# Exponentiation\n",
    "result_exp = 2 ** 4\n",
    "print(\"Exponentiation:\", result_exp)\n",
    "\n",
    "# Modulo\n",
    "result_mod = 17 % 5\n",
    "print(\"Modulo:\", result_mod)"
   ]
  },
  {
   "cell_type": "code",
   "execution_count": 5,
   "id": "04abf2b3",
   "metadata": {},
   "outputs": [
    {
     "name": "stdout",
     "output_type": "stream",
     "text": [
      "17\n"
     ]
    }
   ],
   "source": [
    "# This is a simple arithmetic expression to multiply then add integers.\n",
    "result = (3 * 4) + 5\n",
    "print(result)"
   ]
  },
  {
   "cell_type": "code",
   "execution_count": 6,
   "id": "900ed593",
   "metadata": {},
   "outputs": [
    {
     "name": "stdout",
     "output_type": "stream",
     "text": [
      "3.3333333333333335\n"
     ]
    }
   ],
   "source": [
    "# This will convert 200 minutes to hours by dividing by 60.\n",
    "minutes = 200\n",
    "hours = minutes / 60\n",
    "print(hours)"
   ]
  },
  {
   "cell_type": "markdown",
   "id": "e6fc3959",
   "metadata": {},
   "source": [
    "**Objectives:**\n",
    "\n",
    "- List popular languages for Data Science.\n",
    "- Introduce commonly used libraries in Data Science.\n",
    "- Showcase arithmetic expression examples in Python.\n",
    "- Demonstrate basic arithmetic operations in Python.\n",
    "- Convert minutes to hours using Python."
   ]
  },
  {
   "cell_type": "markdown",
   "id": "488f3a67",
   "metadata": {},
   "source": [
    "## Author\n",
    "\n",
    "Ilham M.S"
   ]
  },
  {
   "cell_type": "code",
   "execution_count": null,
   "id": "0efa12ee",
   "metadata": {},
   "outputs": [],
   "source": []
  }
 ],
 "metadata": {
  "kernelspec": {
   "display_name": "Python 3 (ipykernel)",
   "language": "python",
   "name": "python3"
  },
  "language_info": {
   "codemirror_mode": {
    "name": "ipython",
    "version": 3
   },
   "file_extension": ".py",
   "mimetype": "text/x-python",
   "name": "python",
   "nbconvert_exporter": "python",
   "pygments_lexer": "ipython3",
   "version": "3.11.3"
  }
 },
 "nbformat": 4,
 "nbformat_minor": 5
}
